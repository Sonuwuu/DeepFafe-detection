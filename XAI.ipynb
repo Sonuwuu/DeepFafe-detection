{
 "cells": [
  {
   "cell_type": "code",
   "execution_count": 40,
   "id": "2476436b-59f8-4aaf-b189-160d187642c1",
   "metadata": {},
   "outputs": [
    {
     "name": "stdout",
     "output_type": "stream",
     "text": [
      "\u001b[1m1/1\u001b[0m \u001b[32m━━━━━━━━━━━━━━━━━━━━\u001b[0m\u001b[37m\u001b[0m \u001b[1m1s\u001b[0m 1s/step\n"
     ]
    },
    {
     "name": "stderr",
     "output_type": "stream",
     "text": [
      "Clipping input data to the valid range for imshow with RGB data ([0..1] for floats or [0..255] for integers). Got range [0.0..357.0].\n"
     ]
    },
    {
     "data": {
      "image/png": "[encoded data removed]",
      "text/plain": [
       "<Figure size 640x480 with 1 Axes>"
      ]
     },
     "metadata": {},
     "output_type": "display_data"
    }
   ],
   "source": [
    "import numpy as np\n",
    "import cv2\n",
    "import matplotlib.pyplot as plt\n",
    "from tensorflow.keras.applications.xception import Xception, preprocess_input\n",
    "from tensorflow.keras.models import Model\n",
    "import tensorflow as tf\n",
    "from tensorflow.keras import backend as K\n",
    "\n",
    "# Load the Xception model for feature extraction\n",
    "def load_xception_model():\n",
    "    # Load the Xception model with ImageNet weights\n",
    "    base_model = Xception(weights='imagenet', include_top=True, input_shape=(299, 299, 3))\n",
    "    return base_model\n",
    "\n",
    "base_xception_model = load_xception_model()\n",
    "\n",
    "# Function to extract a specific frame from a video\n",
    "def extract_frame(video_path, frame_number=0):\n",
    "    video_reader = cv2.VideoCapture(video_path)\n",
    "    video_reader.set(cv2.CAP_PROP_POS_FRAMES, frame_number)\n",
    "    success, frame = video_reader.read()\n",
    "    video_reader.release()\n",
    "    if not success:\n",
    "        raise ValueError(f\"Could not extract frame {frame_number} from video {video_path}\")\n",
    "    return frame\n",
    "\n",
    "# Preprocess the frame for the Xception model\n",
    "def preprocess_frame(frame, target_size=(299, 299)):\n",
    "    image = cv2.cvtColor(frame, cv2.COLOR_BGR2RGB)\n",
    "    image = cv2.resize(image, target_size)\n",
    "    image = preprocess_input(image)  # Preprocess input for Xception\n",
    "    return image\n",
    "\n",
    "# Compute Grad-CAM\n",
    "def compute_grad_cam(model, image, class_index):\n",
    "    # Define the model to get the activations of the last convolutional layer\n",
    "    grad_model = Model(\n",
    "        inputs=[model.inputs],\n",
    "        outputs=[model.get_layer('block14_sepconv2_act').output, model.output]\n",
    "    )\n",
    "\n",
    "    with tf.GradientTape() as tape:\n",
    "        conv_outputs, predictions = grad_model(image)\n",
    "        loss = predictions[:, class_index]\n",
    "\n",
    "    grads = tape.gradient(loss, conv_outputs)\n",
    "    pooled_grads = K.mean(grads, axis=(0, 1, 2))\n",
    "\n",
    "    conv_outputs = conv_outputs[0].numpy()  # (10, 10, 2048)\n",
    "    pooled_grads = K.eval(pooled_grads)     # (2048,)\n",
    "\n",
    "    if conv_outputs.ndim == 3:  # Check if `conv_outputs` has shape (height, width, channels)\n",
    "        for i in range(pooled_grads.shape[0]):\n",
    "            conv_outputs[:, :, i] *= pooled_grads[i]\n",
    "        \n",
    "        activation_maps = np.mean(conv_outputs, axis=-1)  # (10, 10)\n",
    "        activation_maps = np.maximum(activation_maps, 0)   # ReLU\n",
    "        activation_maps /= np.max(activation_maps)          # Normalize\n",
    "    else:\n",
    "        raise ValueError(\"Unexpected dimensions for conv_outputs\")\n",
    "\n",
    "    return activation_maps\n",
    "\n",
    "# Display Grad-CAM\n",
    "def display_grad_cam(video_path, frame_number=0):\n",
    "    # Extract and preprocess the frame\n",
    "    frame = extract_frame(video_path, frame_number)\n",
    "    input_image = preprocess_frame(frame)\n",
    "    input_image_batch = np.expand_dims(input_image, axis=0)\n",
    "    \n",
    "    # Predict the class\n",
    "    predictions = base_xception_model.predict(input_image_batch)\n",
    "    class_index = np.argmax(predictions[0])\n",
    "    \n",
    "    # Compute Grad-CAM\n",
    "    activation_maps = compute_grad_cam(base_xception_model, input_image_batch, class_index)\n",
    "    \n",
    "    # Resize activation maps to match the original image size\n",
    "    activation_maps = cv2.resize(activation_maps, (frame.shape[1], frame.shape[0]))\n",
    "    \n",
    "    # Convert activation maps to RGB\n",
    "    activation_maps = np.uint8(255 * activation_maps)\n",
    "    activation_maps = cv2.applyColorMap(activation_maps, cv2.COLORMAP_JET)\n",
    "    activation_maps = cv2.cvtColor(activation_maps, cv2.COLOR_BGR2RGB)\n",
    "    \n",
    "    # Overlay activation maps on the original image\n",
    "    superimposed_img = activation_maps * 0.4 + frame\n",
    "    plt.imshow(superimposed_img)\n",
    "    plt.title('Grad-CAM')\n",
    "    plt.axis('off')\n",
    "    plt.show()\n",
    "\n",
    "# Example usage\n",
    "video_path = 'test-real/00053.mp4'  # Update this with your video path\n",
    "display_grad_cam(video_path, frame_number=0)\n"
   ]
  },
  {
   "cell_type": "code",
   "execution_count": null,
   "id": "800c5a47-76f4-47f3-8108-fd6980019184",
   "metadata": {},
   "outputs": [],
   "source": []
  }
 ],
 "metadata": {
  "kernelspec": {
   "display_name": "Python 3 (ipykernel)",
   "language": "python",
   "name": "python3"
  },
  "language_info": {
   "codemirror_mode": {
    "name": "ipython",
    "version": 3
   },
   "file_extension": ".py",
   "mimetype": "text/x-python",
   "name": "python",
   "nbconvert_exporter": "python",
   "pygments_lexer": "ipython3",
   "version": "3.12.3"
  }
 },
 "nbformat": 4,
 "nbformat_minor": 5
}
